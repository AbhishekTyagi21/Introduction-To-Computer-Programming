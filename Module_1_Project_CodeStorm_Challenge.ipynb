{
  "nbformat": 4,
  "nbformat_minor": 0,
  "metadata": {
    "colab": {
      "provenance": []
    },
    "kernelspec": {
      "name": "python3",
      "display_name": "Python 3"
    },
    "language_info": {
      "name": "python"
    }
  },
  "cells": [
    {
      "cell_type": "markdown",
      "source": [
        "Project on CodeStorm Challenge: Solving and Explaining Complex Coding Problems"
      ],
      "metadata": {
        "id": "1DPqRsquMPBc"
      }
    },
    {
      "cell_type": "markdown",
      "source": [
        "Problem 1:\n",
        "SCORE BOARD OPERATOR\n",
        "\n",
        "An operator working behind the scoreboard of a inter cohort AlmaBetter cricket tournament, is responsible for updating the scores and points of each team. However, the operator is currently facing a challenge. He has been tasked with updating the total number of points gained by Team London, but he does not possess the necessary programming skills to complete this task. According to the tournament's rules, teams are awarded the following points based on the outcome of a match:\n",
        "\n",
        "wins: 3 points\n",
        "draws: 1 point\n",
        "losses: 0 points\n",
        "Team London has played 8 matches in this tournament. They won 4 matches, lost 3 matches and drew 1. The operator is in need of assistance to calculate the total number of points earned by Team London. As a python expert adept with knowledge of integer, floats and boolean, you can help the operator by writing a solution for the following problem.\n",
        "\n",
        "What would your approach be?"
      ],
      "metadata": {
        "id": "uoiA_Z--NvIJ"
      }
    },
    {
      "cell_type": "code",
      "source": [
        "#initializing points variable\n",
        "win_points = 3\n",
        "loss_points = 0\n",
        "draw_points = 1\n",
        "\n",
        "#initializing matches played\n",
        "matches_won = 4\n",
        "matches_lost = 3\n",
        "matches_drew = 1\n",
        "\n",
        "#calculating team london points and displaying them\n",
        "team_london_points = win_points*matches_won + loss_points*matches_lost + draw_points*matches_drew\n",
        "print(team_london_points)"
      ],
      "metadata": {
        "colab": {
          "base_uri": "https://localhost:8080/"
        },
        "id": "yxAPg3e-Ncsn",
        "outputId": "ba884fb2-2a02-4094-af0c-784a3bf20945"
      },
      "execution_count": null,
      "outputs": [
        {
          "output_type": "stream",
          "name": "stdout",
          "text": [
            "13\n"
          ]
        }
      ]
    },
    {
      "cell_type": "markdown",
      "source": [
        "Problem 2:NUTRITION BAR INGREDIENT CHART\n",
        "\n",
        "Imagine you are a data analyst at a nutrition bar manufacturing company. Your department head approaches you with a question. The company produces a nutrition bar that contains 45g of raisins, 65g of almonds, and 30g of apricots. The head of the manufacturing department wants you to create an ingredient percentage list for the nutrition bar using python.\n",
        "\n",
        "Equipped with the knowledge of int, float and booleans in python, how would you approach this situation?"
      ],
      "metadata": {
        "id": "S-DaIVmUTjll"
      }
    },
    {
      "cell_type": "code",
      "source": [
        "#initializing variables that store their quantity in grams\n",
        "raisins = 45\n",
        "almonds = 65\n",
        "apricots = 30\n",
        "\n",
        "#calculating the percentage\n",
        "total = raisins + almonds + apricots\n",
        "raisins_perc = (raisins/total)*100\n",
        "almonds_perc = (almonds/total)*100\n",
        "apricots_perc = (apricots/total)*100\n",
        "\n",
        "print(raisins_perc)\n",
        "print(almonds_perc)\n",
        "print(apricots_perc)"
      ],
      "metadata": {
        "colab": {
          "base_uri": "https://localhost:8080/"
        },
        "id": "t3sy0S86Tz0F",
        "outputId": "5aca24ae-26b7-4d8f-f801-db0126b0554e"
      },
      "execution_count": null,
      "outputs": [
        {
          "output_type": "stream",
          "name": "stdout",
          "text": [
            "32.142857142857146\n",
            "46.42857142857143\n",
            "21.428571428571427\n"
          ]
        }
      ]
    },
    {
      "cell_type": "markdown",
      "source": [
        "Problem 3: SOLVING ALGEBRA\n",
        "\n",
        "You must remember the algebraic equations and functions you came across during your school days. If you do, you also must remember how tedious it was to do solve them manually. 😫 Consider a quadratic function:\n",
        "\n",
        "f(x)=x^2+3x-4\n",
        "\n",
        "Find the value of f(x) at x =3 , x=-2, and x=4\n",
        "\n",
        "Doing this manually like the old days would be a tedious job 😞. But now you have python at your disposal 🙂 ! How would you approach this problem using what you have learned?"
      ],
      "metadata": {
        "id": "szmTVOq4XFjg"
      }
    },
    {
      "cell_type": "code",
      "source": [
        "#initializing variable and then solving equation for x=3\n",
        "x = 3\n",
        "func_at_3 = x**2+3*x-4\n",
        "print(func_at_3)\n",
        "\n",
        "#initializing variable and then solving equation for x=-2\n",
        "x = -2\n",
        "func_at_minus2 = x**2+3*x-4\n",
        "print(func_at_minus2)\n",
        "\n",
        "#initializing variable and then solving equation for x=4\n",
        "x = 4\n",
        "func_at_4 = x**2+3*x-4\n",
        "print(func_at_4)\n",
        "\n",
        "#checking if the function calculated at different values is equal to zero or not\n",
        "print(func_at_3 == 0)\n",
        "print(func_at_minus2 == 0)\n",
        "print(func_at_4 == 0)"
      ],
      "metadata": {
        "colab": {
          "base_uri": "https://localhost:8080/"
        },
        "id": "1tVRnHdpXDBF",
        "outputId": "48303443-4d17-4bc8-d51b-417f9107a35a"
      },
      "execution_count": null,
      "outputs": [
        {
          "output_type": "stream",
          "name": "stdout",
          "text": [
            "14\n",
            "-6\n",
            "24\n",
            "False\n",
            "False\n",
            "False\n"
          ]
        }
      ]
    },
    {
      "cell_type": "markdown",
      "source": [
        "Problem 4:FINDING TOTAL E's IN THE BOOKSHELVES\n",
        "\n",
        "In your pursuit of expanding your knowledge of Python, you come across a bookstore in search of books on the subject.\n",
        "\n",
        "There, you meet a salesperson who is also a Python enthusiast!!\n",
        "\n",
        "The salesperson presents you with a challenge - they have a list of five books related to Python and if you can write a program that finds the count of letter 'e', the store will give you a free book of your choice. 😀\n",
        "\n",
        "Are you ready to accept the challenge?"
      ],
      "metadata": {
        "id": "UVWDiZtUZ93t"
      }
    },
    {
      "cell_type": "code",
      "source": [
        "books = \"Python for Everyone, Learn Python the Hard Way, Python Crash Course , Starting Out with Python, Automate the Boring Stuff with Python\"\n",
        "\n",
        "#counting the letter e and E in the books and also calculating their combined count\n",
        "count_of_letter_e = books.count(\"e\")\n",
        "count_of_letter_E = books.count(\"E\")\n",
        "total_e_count = count_of_letter_e + count_of_letter_E\n",
        "\n",
        "print(count_of_letter_e)\n",
        "print(count_of_letter_E)\n",
        "print(total_e_count)"
      ],
      "metadata": {
        "colab": {
          "base_uri": "https://localhost:8080/"
        },
        "id": "OTdvqQUaZtYL",
        "outputId": "450024fa-995c-4173-8b57-36b82110f321"
      },
      "execution_count": null,
      "outputs": [
        {
          "output_type": "stream",
          "name": "stdout",
          "text": [
            "7\n",
            "1\n",
            "8\n"
          ]
        }
      ]
    },
    {
      "cell_type": "markdown",
      "source": [
        "Problem 5:UNLEASHING THE POWER OF MEAN IN EXAM ANALYSIS\n",
        "\n",
        "When analyzing exam scores, teachers have the power to unlock valuable insights into their students' performance. By using the mean and median, they can get a clear picture of how the class is doing as a whole and identify areas where improvement is needed.\n",
        "\n",
        "The mean score is like a report card for the entire class, showing the average of all exam scores. It gives a good general idea of how the class is doing but can be influenced by a few students with extremely high or low scores.\n",
        "\n",
        "By analysing the mean, teachers can get a complete picture of the class performance and make informed decisions to improve the learning experience for their students. So go ahead and use these powerful tools to take your students' exam scores to the next level!"
      ],
      "metadata": {
        "id": "nW12WIHvb5FH"
      }
    },
    {
      "cell_type": "code",
      "source": [
        "#taking the list of marks scored by students\n",
        "marks = [67,87,75,46,89,97,68,98,87,88]\n",
        "\n",
        "#calculating the mean\n",
        "#we used the sum function which calculates the total of list of marks\n",
        "#we used the len function which calculated the number of subjects for whom marks are given(we are calculating the number of observations)\n",
        "average_marks_aka_mean = sum(marks)/len(marks)\n",
        "\n",
        "print(average_marks_aka_mean)"
      ],
      "metadata": {
        "colab": {
          "base_uri": "https://localhost:8080/"
        },
        "id": "aTPrAU46b4RC",
        "outputId": "ff24d731-d542-48ba-e82b-dec249828779"
      },
      "execution_count": null,
      "outputs": [
        {
          "output_type": "stream",
          "name": "stdout",
          "text": [
            "80.2\n"
          ]
        }
      ]
    },
    {
      "cell_type": "markdown",
      "source": [
        "Problem 6:JOHN's FRUIT STAND SALES MIX-UP\n",
        "\n",
        "\n",
        "Jim owns a quaint little fruit stand that sells mangoes, bananas, apples, and pineapples. One day, with Jim being tied up, he tasked his son John to manage the shop for a day. Being new to the game, John recorded the sales data in an unconventional way. He wrote down the name of each fruit as many times as it was sold, creating a list like this:\n",
        "\n",
        "['Mango','Mango','Mango','Pineapple','Pineapple','Pineapple','Apple','Mango','Banana','Apple','Banana','Apple','Pineapple','Apple','Apple','Pineapple','Pineapple'] 🤦\n",
        "\n",
        "But, this method is not very efficient or easy to read.\n",
        "\n",
        "Forunately you were there at the shop to grab some apples yourselves, and you saw what John was doing.\n",
        "\n",
        "You can help him out to structure the data by using dictionaries. How?"
      ],
      "metadata": {
        "id": "c5anksOcdd3X"
      }
    },
    {
      "cell_type": "code",
      "source": [
        "fruit_list=['Mango','Mango','Mango','Pineapple','Pineapple','Pineapple','Apple','Mango','Banana','Apple','Banana','Apple','Pineapple','Apple','Apple','Pineapple','Pineapple']\n",
        "#creating empty dictionary to store the respective fruits and their counts\n",
        "fruit_dictionary = {}\n",
        "\n",
        "#adding the respective fruits and their count to the empty dictionary with fruit name as key and their respective count as value\n",
        "fruit_dictionary[\"Mango\"] = fruit_list.count(\"Mango\")\n",
        "fruit_dictionary[\"Pineapple\"] = fruit_list.count(\"Pineapple\")\n",
        "fruit_dictionary[\"Apple\"] = fruit_list.count(\"Apple\")\n",
        "fruit_dictionary[\"Banana\"] = fruit_list.count(\"Banana\")\n",
        "\n",
        "print(fruit_dictionary)"
      ],
      "metadata": {
        "colab": {
          "base_uri": "https://localhost:8080/"
        },
        "id": "xP9vZA1hdonT",
        "outputId": "d563b7bf-19a5-4c7f-c7c9-f396b8edb44d"
      },
      "execution_count": null,
      "outputs": [
        {
          "output_type": "stream",
          "name": "stdout",
          "text": [
            "{'Mango': 4, 'Pineapple': 6, 'Apple': 5, 'Banana': 2}\n"
          ]
        }
      ]
    },
    {
      "cell_type": "markdown",
      "source": [
        "Problem 7:Imagine that you are a superhero movie buff and you're trying to create a list of the most iconic Marvel characters. You have compiled a list of some of the most popular characters, but you want to narrow it down to the top 6.\n",
        "Here's your list of characters:\n",
        "\n",
        "marvel_words = ['Avengers', 'X-Men', 'Spider-Man', 'Iron Man', 'Hulk', 'Thor', 'Black Widow', 'Captain America', 'Wolverine', 'Doctor Strange', 'Namor']\n",
        "You want to narrow down the list to the last 6 characters in the list. These characters are:\n",
        "\n",
        "Namor\n",
        "Doctor Strange\n",
        "Wolverine\n",
        "Captain America\n",
        "Black Widow\n",
        "Thor\n",
        "Write a code to slice these characters from the list"
      ],
      "metadata": {
        "id": "6w19YGLze6t7"
      }
    },
    {
      "cell_type": "code",
      "source": [
        "marvel_words = ['Avengers', 'X-Men', 'Spider-Man', 'Iron Man', 'Hulk', 'Thor', 'Black Widow', 'Captain America', 'Wolverine', 'Doctor Strange', 'Namor']\n",
        "#slicing the last 6 characters in the marvel_words and printing them\n",
        "marvel_top_6 = marvel_words[-1:-7:-1]\n",
        "print(marvel_top_6)"
      ],
      "metadata": {
        "colab": {
          "base_uri": "https://localhost:8080/"
        },
        "id": "DJ3a6DZafwes",
        "outputId": "503850e8-2d55-4475-a4d7-4c7fe23d0702"
      },
      "execution_count": null,
      "outputs": [
        {
          "output_type": "stream",
          "name": "stdout",
          "text": [
            "['Namor', 'Doctor Strange', 'Wolverine', 'Captain America', 'Black Widow', 'Thor']\n"
          ]
        }
      ]
    },
    {
      "cell_type": "markdown",
      "source": [
        "Create two teams of superheroes based on their index position: one team should consist of all the characters located at even index positions, while the other team should consist of all the characters located at odd index positions."
      ],
      "metadata": {
        "id": "JYA2lsmpgMTJ"
      }
    },
    {
      "cell_type": "code",
      "source": [
        "#initializing the varibale to store the characters at even index and odd index and printing both the teams\n",
        "team_at_even_idx = marvel_words[0::2]\n",
        "team_at_odd_idx = marvel_words[1::2]\n",
        "print(team_at_even_idx)\n",
        "print(team_at_odd_idx)"
      ],
      "metadata": {
        "colab": {
          "base_uri": "https://localhost:8080/"
        },
        "id": "uPlL_qzNgNOG",
        "outputId": "12479c29-422f-4c99-a449-47676565afcc"
      },
      "execution_count": null,
      "outputs": [
        {
          "output_type": "stream",
          "name": "stdout",
          "text": [
            "['Avengers', 'Spider-Man', 'Hulk', 'Black Widow', 'Wolverine', 'Namor']\n",
            "['X-Men', 'Iron Man', 'Thor', 'Captain America', 'Doctor Strange']\n"
          ]
        }
      ]
    },
    {
      "cell_type": "markdown",
      "source": [
        "Store the word 'Spider-Man' in a new variable, and slice the word 'Spider' from it."
      ],
      "metadata": {
        "id": "bMe66yM-gmRH"
      }
    },
    {
      "cell_type": "code",
      "source": [
        "#storing the word spider-man in a variable and then slicing the word spider from that variable\n",
        "spider_man = marvel_words[2]\n",
        "word_spider = spider_man[:6:]\n",
        "#printing the result\n",
        "print(new_var)\n",
        "print(word_spider)"
      ],
      "metadata": {
        "colab": {
          "base_uri": "https://localhost:8080/"
        },
        "id": "Z8MOhH5Pgv8f",
        "outputId": "61f62292-1324-4e96-cb99-aaba320882c2"
      },
      "execution_count": null,
      "outputs": [
        {
          "output_type": "stream",
          "name": "stdout",
          "text": [
            "Spider-Man\n",
            "Spider\n"
          ]
        }
      ]
    },
    {
      "cell_type": "markdown",
      "source": [
        "Store the word 'Iron-Man' in a variable and use reverse indexing to reverse it."
      ],
      "metadata": {
        "id": "9aLxOM5hhELU"
      }
    },
    {
      "cell_type": "code",
      "source": [
        "##storing the word iron-man in a variable and then reversing the word\n",
        "iron_man = marvel_words[3]\n",
        "reversed_iron_man = iron_man[::-1]\n",
        "#printing the result\n",
        "print(iron_man)\n",
        "print(reversed_iron_man)"
      ],
      "metadata": {
        "colab": {
          "base_uri": "https://localhost:8080/"
        },
        "id": "U4gEkPyihLMO",
        "outputId": "a2decd6d-38f5-46b1-a112-83d72314afbb"
      },
      "execution_count": null,
      "outputs": [
        {
          "output_type": "stream",
          "name": "stdout",
          "text": [
            "Iron Man\n",
            "naM norI\n"
          ]
        }
      ]
    },
    {
      "cell_type": "markdown",
      "source": [
        "Problem 8: Let's do some math!\n",
        "\n",
        "📐 First up, let's calculate the area of a square with sides that measure 5 cm. 🤔 How much space does this shape occupy?\n",
        "\n",
        "🔍 Next, let's find the volume of a cube with sides that measure 12 cm. 📏 How much room does this shape take up?\n",
        "\n",
        "🔢 Lastly, we'll find the quotient and remainder when we divide 10 by 4. 🧐 How many times does 4 fit into 10? What's left over?"
      ],
      "metadata": {
        "id": "JjvsbPS8i5Qu"
      }
    },
    {
      "cell_type": "code",
      "source": [
        "#initializing the sides 5cm in a variable and calculating the area\n",
        "sides_of_square = 5\n",
        "area = sides_of_square**2\n",
        "print(area)\n",
        "\n",
        "#initializing the sides 12cm in a variable and calculating the volume\n",
        "sides_of_cube = 12\n",
        "volume = sides_of_cube**3\n",
        "print(volume)\n",
        "\n",
        "#declaring the values in varibles 'a' and 'b'\n",
        "a = 10\n",
        "b = 4\n",
        "\n",
        "#calculating the quotient and remainder\n",
        "quotient = a//b\n",
        "remainder = a%b\n",
        "\n",
        "print(quotient)\n",
        "print(remainder)"
      ],
      "metadata": {
        "colab": {
          "base_uri": "https://localhost:8080/"
        },
        "id": "91y6oEc2jCHV",
        "outputId": "3d1cf9e0-032d-4e8a-8d2a-d5ddfdee4684"
      },
      "execution_count": null,
      "outputs": [
        {
          "output_type": "stream",
          "name": "stdout",
          "text": [
            "25\n",
            "1728\n",
            "2\n",
            "2\n"
          ]
        }
      ]
    },
    {
      "cell_type": "markdown",
      "source": [
        "Problem 9:Let's practice some comparison operators!\n",
        "\n",
        "Here's a problem for you to solve:\n",
        "🍎 The first basket contains 12 apples, and the second basket contains 8 apples. Use comparison operators to answer the following questions:\n",
        "\n",
        "Is the number of apples in the first basket greater than the number of apples in the second basket?\n",
        "\n",
        "Is the number of apples in the second basket less than or equal to the number of apples in the first basket?\n",
        "\n",
        "Is the number of apples in the first basket equal to the number of apples in the second basket?\n",
        "\n",
        "Is the number of apples in the second basket not equal to the number of apples in the first basket?\n",
        "\n",
        "Use comparison operators (i.e. >, >=, <, <=, ==, !=) in your code to answer each question. Good luck!"
      ],
      "metadata": {
        "id": "nx1GdGbIlULC"
      }
    },
    {
      "cell_type": "code",
      "source": [
        "#initializing the variables storing the apples in both baskets\n",
        "basket1 = 12\n",
        "basket2 = 8\n",
        "\n",
        "#finding out if number of apples in the first basket greater than the number of apples in the second basket\n",
        "print(basket1>basket2)\n",
        "#finding out if number of apples in the second basket less than or equal to the number of apples in the first basket\n",
        "print(basket2<=basket1)\n",
        "#finding out if number of apples in the first basket equal to the number of apples in the second basket\n",
        "print(basket1==basket2)\n",
        "#finding out if number of apples in the second basket not equal to the number of apples in the first basket\n",
        "print(basket2!=basket1)"
      ],
      "metadata": {
        "colab": {
          "base_uri": "https://localhost:8080/"
        },
        "id": "5FgKyXY9lfe5",
        "outputId": "7efd470a-e5af-46b3-e688-7ccc20f6a43d"
      },
      "execution_count": null,
      "outputs": [
        {
          "output_type": "stream",
          "name": "stdout",
          "text": [
            "True\n",
            "True\n",
            "False\n",
            "True\n"
          ]
        }
      ]
    },
    {
      "cell_type": "markdown",
      "source": [
        "Problem 10:Are you ready for your trip to Goa? 🌊\n",
        "\n",
        " You've got two bags with you, and you need to make sure they're light enough to board the flight. Let's use some logical operators to find out if you can make it on time!\n",
        "🧳 One of your bags weighs 15 kg, while the other one weighs only 5 kg. 💪 You know you can pack a lot more in the heavier bag, but you have to be careful not to go over the weight limit.\n",
        "\n",
        "👮‍♀️ The airline has a strict policy that both of your bags must weigh less than 13 kg each. Can you make it on the flight? Let's use logical operators to find out!\n",
        "\n"
      ],
      "metadata": {
        "id": "WcM-bOVymvlU"
      }
    },
    {
      "cell_type": "code",
      "source": [
        "#declaring variables storing weight of bags in kg\n",
        "bag1 = 15\n",
        "bag2 = 5\n",
        "\n",
        "#finding if both of bags weigh less than 13 kg each\n",
        "if bag1<13 and bag2<13:\n",
        "  print(\"Enjoy your trip!\")\n",
        "else:\n",
        "  print(\"Sorry, You can not go through!\")"
      ],
      "metadata": {
        "colab": {
          "base_uri": "https://localhost:8080/"
        },
        "id": "SdYPB2dnmvQD",
        "outputId": "b91b3c89-e516-47c6-a363-964153e3917f"
      },
      "execution_count": null,
      "outputs": [
        {
          "output_type": "stream",
          "name": "stdout",
          "text": [
            "Sorry, You can not go through!\n"
          ]
        }
      ]
    },
    {
      "cell_type": "markdown",
      "source": [
        " Uh oh, it looks like we have a problem with our bags! But don't worry, the crew has offered a solution. 😊\n",
        "\n",
        "👨‍✈️ They've said that if at least one of our bags weighs less than 6 kg, we can still board the flight this time. 🛫\n",
        "\n",
        "🤔 Are we ready for the trip or not? Let's use some logical operators to find out!"
      ],
      "metadata": {
        "id": "_cBBXOIwnIas"
      }
    },
    {
      "cell_type": "code",
      "source": [
        "#finding if one of the bag weigh less than 6kg\n",
        "if bag1<6 or bag2<6:\n",
        "  print(\"congratulations! you can board the flight\")\n",
        "else:\n",
        "  print(\"sorry,you cannot go through\")"
      ],
      "metadata": {
        "colab": {
          "base_uri": "https://localhost:8080/"
        },
        "id": "tkjLtvCjnMTf",
        "outputId": "75e21426-92ed-4ee3-8267-ddfa1e6e6685"
      },
      "execution_count": null,
      "outputs": [
        {
          "output_type": "stream",
          "name": "stdout",
          "text": [
            "congratulations! you can board the flight\n"
          ]
        }
      ]
    },
    {
      "cell_type": "markdown",
      "source": [
        "Problem 11: Here is a string for you to work with:\n",
        "\n",
        "statement = \"anas eagerly recommended 'the shawshank redemption' to his friends. He described the movie as a captivating and emotional story of hope and friendship. His friends decided to watch it together the following weekend.\"\n",
        "\n",
        "1. Create a list containing the three sentences in the statement."
      ],
      "metadata": {
        "id": "wWKAveViMJYm"
      }
    },
    {
      "cell_type": "code",
      "source": [
        "#creating a variable my_list which contains the list of three sentences made froom the statement string.we used the split method of the string\n",
        "statement = \"anas eagerly recommended 'the shawshank redemption' to his friends. He described the movie as a captivating and emotional story of hope and friendship. His friends decided to watch it together the following weekend.\"\n",
        "my_list = statement.split(\".\")\n",
        "print(my_list)"
      ],
      "metadata": {
        "colab": {
          "base_uri": "https://localhost:8080/"
        },
        "id": "f7WlfCTzM3q5",
        "outputId": "abebc924-0969-4210-960c-de77cea6fbc2"
      },
      "execution_count": null,
      "outputs": [
        {
          "output_type": "stream",
          "name": "stdout",
          "text": [
            "[\"anas eagerly recommended 'the shawshank redemption' to his friends\", ' He described the movie as a captivating and emotional story of hope and friendship', ' His friends decided to watch it together the following weekend', '']\n"
          ]
        }
      ]
    },
    {
      "cell_type": "markdown",
      "source": [
        "2. The name 'anas' is spelled wrong. Replace it with 'Anas'."
      ],
      "metadata": {
        "id": "n1qay2A1N4VB"
      }
    },
    {
      "cell_type": "code",
      "source": [
        "#replaced the word 'anas' with the 'Anas' using the replace method of the string operation in the statement string\n",
        "statement = \"anas eagerly recommended 'the shawshank redemption' to his friends. He described the movie as a captivating and emotional story of hope and friendship. His friends decided to watch it together the following weekend.\"\n",
        "statement = statement.replace(\"anas\",\"Anas\")\n",
        "print(statement)"
      ],
      "metadata": {
        "colab": {
          "base_uri": "https://localhost:8080/"
        },
        "id": "eGPsG2KdNpD8",
        "outputId": "d6fc328b-557c-43bf-dfb0-7fcae5f96e7b"
      },
      "execution_count": null,
      "outputs": [
        {
          "output_type": "stream",
          "name": "stdout",
          "text": [
            "Anas eagerly recommended 'the shawshank redemption' to his friends. He described the movie as a captivating and emotional story of hope and friendship. His friends decided to watch it together the following weekend.\n"
          ]
        }
      ]
    },
    {
      "cell_type": "markdown",
      "source": [
        "3. The title of the book is not written in the correct cases as well. Make corrections there."
      ],
      "metadata": {
        "id": "iX0F4uKjOeuV"
      }
    },
    {
      "cell_type": "code",
      "source": [
        "#replaced the title of the book  with the correct cases using the replace method of the string operation in the statement string\n",
        "statement = statement.replace(\"the shawshank redemption\",\"the shawshank redemption\".title())\n",
        "print(statement)"
      ],
      "metadata": {
        "colab": {
          "base_uri": "https://localhost:8080/"
        },
        "id": "aSwf8_zMOgGO",
        "outputId": "25a2f97c-6c88-4ff8-b555-76991f1d2e32"
      },
      "execution_count": null,
      "outputs": [
        {
          "output_type": "stream",
          "name": "stdout",
          "text": [
            "Anas eagerly recommended 'The Shawshank Redemption' to his friends. He described the movie as a captivating and emotional story of hope and friendship. His friends decided to watch it together the following weekend.\n"
          ]
        }
      ]
    },
    {
      "cell_type": "markdown",
      "source": [
        "4. You believe \"The Shawshank Redemption\" would be bit too gloomy for the lot. Take user input of which movie to recommend and replace \"The Shawshank Redemption\" from the statement with the new recommendation"
      ],
      "metadata": {
        "id": "7xFoBuvBPPET"
      }
    },
    {
      "cell_type": "code",
      "source": [
        "#replaced the 'The Shawshank Redemption' with the user suggested movie by accepting input from the user\n",
        "user_input = input(\"Enter the new movie recommendation:\")\n",
        "statement = statement.replace(\"The Shawshank Redemption\",user_input.title())\n",
        "print(statement)"
      ],
      "metadata": {
        "colab": {
          "base_uri": "https://localhost:8080/"
        },
        "id": "GxT-R07TPQRn",
        "outputId": "1178e8ee-d3d3-4ed1-d060-bce70a7257a0"
      },
      "execution_count": null,
      "outputs": [
        {
          "output_type": "stream",
          "name": "stdout",
          "text": [
            "Enter the new movie recommendation:geostorm\n",
            "Anas eagerly recommended 'Geostorm' to his friends. He described the movie as a captivating and emotional story of hope and friendship. His friends decided to watch it together the following weekend.\n"
          ]
        }
      ]
    },
    {
      "cell_type": "markdown",
      "source": [
        "Problem 12: A teacher has stored the names of his students in a tuple as follows:\n",
        "('Adam','Alice','Ben','Bilal','Bharath')\n",
        "\n",
        "Their role numbers are defined as their index number + 1.\n",
        "\n",
        "Write a program which would take the name of the student as input and return their role number.\n",
        "\n"
      ],
      "metadata": {
        "id": "MtYSsQPeSU0K"
      }
    },
    {
      "cell_type": "code",
      "source": [
        "student_tuple = ('Adam','Alice','Ben','Bilal','Bharath')\n",
        "roll_num = 0\n",
        "#accepting the input from the user\n",
        "user_input = input(\"Enter the name of the student:\")\n",
        "#using if-else statement to checkk if the user defined input is availaible in student_tuple and if yes,then finding the roll number using the index method of\n",
        "#tuple and storing the roll number in roll_num variable\n",
        "if user_input in student_tuple:\n",
        "  roll_num = student_tuple.index(user_input)+1\n",
        "else:\n",
        "  print(\"student name is not found\")\n",
        "#printing the roll number\n",
        "print(\"The roll number of\",user_input,\"is\",roll_num)"
      ],
      "metadata": {
        "colab": {
          "base_uri": "https://localhost:8080/"
        },
        "id": "ffp63R5hShBh",
        "outputId": "19008c82-66a6-4152-95b7-610c225bd09f"
      },
      "execution_count": null,
      "outputs": [
        {
          "output_type": "stream",
          "name": "stdout",
          "text": [
            "Enter the name of the student:Ben\n",
            "The roll number of Ben is 3\n"
          ]
        }
      ]
    },
    {
      "cell_type": "markdown",
      "source": [
        "Problem 13:\n",
        "Imagine you are a fitness instructor who needs to evaluate if a client has reached their weight loss goal. The target weight loss goal is 10 pounds. If the client has lost at least 10 pounds, you should print the message \"Congratulations, you have reached your weight loss goal!\" However, if the client has lost less than 10 pounds, you should print \"Sorry, you have not reached your weight loss goal yet. Keep up the good work!\""
      ],
      "metadata": {
        "id": "InztYE_KZoEe"
      }
    },
    {
      "cell_type": "code",
      "source": [
        "#accepting the input from the client and storing it as float type\n",
        "client_weight_loss = float(input(\"Enter the weight lost(in pounds):\"))\n",
        "#using the if statement to check if the weight lost is atleast 10 or not and printing the appropriate message as per the given condition\n",
        "if client_weight_loss>=10:\n",
        "  print(\"Congratulations, you have reached your weight loss goal!\")\n",
        "else:\n",
        "  print(\"Sorry, you have not reached your weight loss goal yet. Keep up the good work!\")"
      ],
      "metadata": {
        "colab": {
          "base_uri": "https://localhost:8080/"
        },
        "id": "WI5NlnvNgxQd",
        "outputId": "0dee6c8d-72dd-47a9-e0eb-5f25c94f386c"
      },
      "execution_count": null,
      "outputs": [
        {
          "output_type": "stream",
          "name": "stdout",
          "text": [
            "Enter the weight lost(in pounds):15\n",
            "Congratulations, you have reached your weight loss goal!\n"
          ]
        }
      ]
    },
    {
      "cell_type": "markdown",
      "source": [
        "Problem 14:Creating a shipping cost calculator!\n",
        "\n",
        "You need to create a program that calculates the cost of shipping a package based on its weight and destination\n",
        "\n",
        "Domestic shipping within the country :\n",
        "\n",
        "Packages weighing up to 1 kg cost Rs.50 to ship.Each additional kg costs Rs.10 extra\n",
        "\n",
        "International shipping to other countries :\n",
        "\n",
        "Packages weighing up to 1 kg cost Rs.500 to ship.\n",
        "Each additional kg costs Rs.100 extra. Ready to ship?"
      ],
      "metadata": {
        "id": "6Hlf9rLahzi1"
      }
    },
    {
      "cell_type": "code",
      "source": [
        "#accepting the package weight and destination from the user and storing in the respective variable\n",
        "package_weight = float(input(\"enter the weight of the package to be shipped(in kgs):\"))\n",
        "cost = 0\n",
        "destination = input(\"enter the destination where package will be shipped(domestic or international):\")\n",
        "#checking if the package if to be shipped domestic and then calculating the cost\n",
        "if destination == \"domestic\":\n",
        "  if package_weight<=1:\n",
        "    cost = 50\n",
        "  elif package_weight>1:\n",
        "    cost = 50 + (package_weight-1)*10\n",
        "#checking if the package if to be shipped international and then calculating the cost\n",
        "if destination == \"international\":\n",
        "  if package_weight<=1:\n",
        "    cost = 500\n",
        "  elif package_weight>1:\n",
        "    cost = 500 + (package_weight-1)*100\n",
        "#printing the cost\n",
        "print(cost)"
      ],
      "metadata": {
        "colab": {
          "base_uri": "https://localhost:8080/"
        },
        "id": "XrpOiJGdiGhK",
        "outputId": "3f1a0a8b-64d4-4dc1-b32e-04f321a5f909"
      },
      "execution_count": null,
      "outputs": [
        {
          "output_type": "stream",
          "name": "stdout",
          "text": [
            "enter the weight of the package to be shipped(in kgs):5\n",
            "enter the destination where package will be shipped(domestic or international):international\n",
            "900.0\n"
          ]
        }
      ]
    },
    {
      "cell_type": "markdown",
      "source": [
        "Problem 15:\n",
        "As a car dealership manager, you need to create a discount system for your customers based on the price of the car they want to buy. Here are the rules!\n",
        "\n",
        "If the car price is less than Rs. 10,00,000, there is no discount.\n",
        "\n",
        "If the car price is between Rs. 10,00,000 and Rs. 20,00,000, there is a discount of 5%.\n",
        "\n",
        "If the car price is between Rs. 20,00,000 and Rs. 30,00,000, there is a discount of 7.5%.\n",
        "\n",
        "If the car price is greater than Rs. 30,00,000, there is a discount of 10%.\n",
        "\n",
        "Are you ready to make your customers happy with these discounts?"
      ],
      "metadata": {
        "id": "uzC9O2QtkhUZ"
      }
    },
    {
      "cell_type": "code",
      "source": [
        "#accepting the input from the user and calculating the discount as per the car price\n",
        "car_price = int(input(\"enter the price of the car(in Rs.):\"))\n",
        "discount = 0\n",
        "if car_price < 1000000:\n",
        "  discount = 0\n",
        "elif car_price > 1000000 and car_price < 2000000:\n",
        "  discount = car_price*0.05\n",
        "elif car_price > 2000000 and car_price < 3000000:\n",
        "  discount = car_price*0.75\n",
        "elif car_price > 3000000:\n",
        "  discount = 0.10\n",
        "#calculating the discounted price\n",
        "discounted_price = car_price - discount\n",
        "print(discounted_price)\n",
        "print(discount)"
      ],
      "metadata": {
        "colab": {
          "base_uri": "https://localhost:8080/"
        },
        "id": "p92C13j1ksHW",
        "outputId": "64685b80-71c4-43d2-a82f-90da2d01e394"
      },
      "execution_count": null,
      "outputs": [
        {
          "output_type": "stream",
          "name": "stdout",
          "text": [
            "enter the price of the car(in Rs.):1500000\n",
            "1425000.0\n",
            "75000.0\n"
          ]
        }
      ]
    },
    {
      "cell_type": "markdown",
      "source": [
        "Problem 16:\n",
        "\n",
        "Write a Python program that analyzes a list of names and sorts them into two categories: those that start with a vowel and those that start with a consonant."
      ],
      "metadata": {
        "id": "lQfs65JbokWd"
      }
    },
    {
      "cell_type": "code",
      "source": [
        "names = [\"Alice\", \"Bob\", \"Eve\", \"Charlie\", \"Ivy\", \"David\", \"Olivia\", \"Peter\"]\n",
        "#creating two lists to store the names as per the ones that start with a vowel and consonant respectively\n",
        "vowel_list = []\n",
        "consonant_list = []\n",
        "#using a for loop to iterate over names list and checking if the starting word is a vowel or consonant\n",
        "for name in names:\n",
        "  if name[0].lower() in \"aeiou\":\n",
        "    vowel_list.append(name)\n",
        "  else:\n",
        "    consonant_list.append(name)\n",
        "\n",
        "print(vowel_list)\n",
        "print(consonant_list)"
      ],
      "metadata": {
        "colab": {
          "base_uri": "https://localhost:8080/"
        },
        "id": "9XdagOfgoqoV",
        "outputId": "48a99a6a-2cfd-4c65-d51a-d9f45927e30d"
      },
      "execution_count": null,
      "outputs": [
        {
          "output_type": "stream",
          "name": "stdout",
          "text": [
            "['Alice', 'Eve', 'Ivy', 'Olivia']\n",
            "['Bob', 'Charlie', 'David', 'Peter']\n"
          ]
        }
      ]
    },
    {
      "cell_type": "markdown",
      "source": [
        "Problem 17:\n",
        "\n",
        "You are a teacher and you have a dictionary containing the grades of your students in a particular subject. The keys of the dictionary are the names of the students, and the values are their respective grades. You need to find the students who scored above 90% and print out their names."
      ],
      "metadata": {
        "id": "wLd_u5T3tvyk"
      }
    },
    {
      "cell_type": "code",
      "source": [
        "grades = {\n",
        "    'Alice': 85,\n",
        "    'Bob': 92,\n",
        "    'Charlie': 88,\n",
        "    'David': 95,\n",
        "    'Emily': 78,\n",
        "    'Frank': 91\n",
        "}\n",
        "#creating an empty list where we will store the names of the students who scored above 90\n",
        "name_list = []\n",
        "#using for loop to iterate over the dictionary items and checking who scored above 90 and adding that name to the list\n",
        "for name,grade in grades.items():\n",
        "  if grade>90:\n",
        "    name_list.append(name)\n",
        "\n",
        "print(name_list)"
      ],
      "metadata": {
        "colab": {
          "base_uri": "https://localhost:8080/"
        },
        "id": "ff21PKS8t3Ov",
        "outputId": "14b1826e-2a23-4307-c26e-98b7a3193635"
      },
      "execution_count": null,
      "outputs": [
        {
          "output_type": "stream",
          "name": "stdout",
          "text": [
            "['Bob', 'David', 'Frank']\n"
          ]
        }
      ]
    },
    {
      "cell_type": "markdown",
      "source": [
        "Problem 18:\n",
        "\n",
        "You're given a nested list of numbers, and your task is to count the number of odd and even numbers in the list. To achieve this, you'll use a nested loop and some basic conditional statements.\n",
        "List - numbers = [ [2, 5, 11, 20, 8], [9, 4, 15, 28, 17], [1, 6, 21, 18, 3], [10, 13, 25, 33, 30], [14, 7, 16, 19, 22] ]"
      ],
      "metadata": {
        "id": "UglKjgJbuyzN"
      }
    },
    {
      "cell_type": "code",
      "source": [
        "numbers = [[2, 5, 11, 20, 8],\n",
        "    [9, 4, 15, 28, 17],\n",
        "    [1, 6, 21, 18, 3],\n",
        "    [10, 13, 25, 33, 30],\n",
        "    [14, 7, 16, 19, 22]]\n",
        "#even_list will store even number and odd_list will store odd numbers\n",
        "even_list = []\n",
        "odd_list = []\n",
        "#iterating over the numbers using the nested loop\n",
        "#outer loop iterates over the sublist and inner loop iterates over the numbers inside the sublist\n",
        "for sublist in numbers:\n",
        "  for num in sublist:\n",
        "    #adding the numbers to their respective list as per if they are even or odd\n",
        "    if num%2 == 0:\n",
        "      even_list.append(num)\n",
        "    else:\n",
        "      odd_list.append(num)\n",
        "print(odd_list)\n",
        "print(even_list)"
      ],
      "metadata": {
        "colab": {
          "base_uri": "https://localhost:8080/"
        },
        "id": "NOOAPb_9u_Rp",
        "outputId": "bce481dc-bafd-46e9-d0bf-5eb707abbf20"
      },
      "execution_count": null,
      "outputs": [
        {
          "output_type": "stream",
          "name": "stdout",
          "text": [
            "[5, 11, 9, 15, 17, 1, 21, 3, 13, 25, 33, 7, 19]\n",
            "[2, 20, 8, 4, 28, 6, 18, 10, 30, 14, 16, 22]\n"
          ]
        }
      ]
    },
    {
      "cell_type": "markdown",
      "source": [
        "Problem 19:\n",
        "Imagine you're organizing a chess tournament 🏆, where each player has to play against every other player. To achieve this, you can use nested loops in Python!"
      ],
      "metadata": {
        "id": "Kq8qDpJRwJ_t"
      }
    },
    {
      "cell_type": "code",
      "source": [
        "players = ['Alice', 'Bob', 'Charlie', 'Diana']\n",
        "#using nested loop to iterate over the players list two times and if player1 is equal to player2 then we are terminating the loop else organising the match\n",
        "for player1 in players:\n",
        "  for player2 in players:\n",
        "    if player1==player2:\n",
        "      break\n",
        "    else:\n",
        "      print(player1,\"vs\",player2)"
      ],
      "metadata": {
        "colab": {
          "base_uri": "https://localhost:8080/"
        },
        "id": "ycweOqgswVTg",
        "outputId": "9205360d-d8c9-46b3-a6e2-7fc0ea69ee4f"
      },
      "execution_count": null,
      "outputs": [
        {
          "output_type": "stream",
          "name": "stdout",
          "text": [
            "Bob vs Alice\n",
            "Charlie vs Alice\n",
            "Charlie vs Bob\n",
            "Diana vs Alice\n",
            "Diana vs Bob\n",
            "Diana vs Charlie\n"
          ]
        }
      ]
    },
    {
      "cell_type": "markdown",
      "source": [
        "Problem 20:Building a Guessing Game\n",
        "\n",
        "In this activity, you will build a simple guessing game using conditional looping in Python. The game will generate a random number between 1 and 100, and the user will have to guess the number within a certain number of tries. The program will provide hints to the user after each guess, telling them whether their guess is too high or too low."
      ],
      "metadata": {
        "id": "xEjT2YThyoBF"
      }
    },
    {
      "cell_type": "code",
      "source": [
        "import random\n",
        "#generating a randon number using the random module's randint method b/w 1 and 100\n",
        "random_num = random.randint(1,100)\n",
        "\n",
        "while True:\n",
        "  num = int(input(\"enter the number:\"))\n",
        "  #checking if the number is greater than random number\n",
        "  if num>random_num:\n",
        "    print(\"number is too high\")\n",
        "  #checking if the number is greater than the random number\n",
        "  elif num<random_num:\n",
        "    print(\"number is too low\")\n",
        "  #if the guess is right then printing congratulations message and breaking out of the loop\n",
        "  if num==random_num:\n",
        "    print(\"congratulations,your guess is correct\")\n",
        "    break"
      ],
      "metadata": {
        "colab": {
          "base_uri": "https://localhost:8080/"
        },
        "id": "oACglpz0zHps",
        "outputId": "8e92dc87-1282-4902-bea5-a1c42099ada6"
      },
      "execution_count": null,
      "outputs": [
        {
          "output_type": "stream",
          "name": "stdout",
          "text": [
            "enter the number:54\n",
            "number is too high\n",
            "enter the number:26\n",
            "number is too high\n",
            "enter the number:14\n",
            "number is too high\n",
            "enter the number:8\n",
            "number is too high\n",
            "enter the number:3\n",
            "number is too high\n",
            "enter the number:1\n",
            "number is too low\n",
            "enter the number:2\n",
            "congratulations,your guess is correct\n"
          ]
        }
      ]
    },
    {
      "cell_type": "markdown",
      "source": [
        "Problem 21:\n",
        "You have two lists, one containing pizza toppings and the other containing burger toppings. You need to create a new list that contains all the toppings from both the pizza and burger toppings lists, but only if they have more than 5 characters in their name.\n",
        "\n",
        "Can you write the code to create a new list that contains all the toppings from both the pizza and burger toppings lists, but only if they have more than 5 characters in their name using list comprehension only?"
      ],
      "metadata": {
        "id": "Z5caCRFD2VAa"
      }
    },
    {
      "cell_type": "code",
      "source": [
        "pizza_toppings = ['mushroom', 'olive', 'tomato', 'pepperoni', 'onion', 'garlic']\n",
        "burger_toppings = ['lettuce', 'cheese', 'mayonnaise', 'bacon', 'pickle', 'avocado']\n",
        "#concatinating the two lists to create a list containing all the toppings fom both lists\n",
        "new_list= pizza_toppings+burger_toppings\n",
        "#using list comprehension creating a list which contains all the toppings having length more than 5\n",
        "combined_toppings_list = [topping for topping in new_list if len(topping)>5]\n",
        "print(combined_toppings_list)"
      ],
      "metadata": {
        "colab": {
          "base_uri": "https://localhost:8080/"
        },
        "id": "CwnSiyN_7TV8",
        "outputId": "dc6db08d-fee2-4bbb-fe44-5119dde6b776"
      },
      "execution_count": null,
      "outputs": [
        {
          "output_type": "stream",
          "name": "stdout",
          "text": [
            "['mushroom', 'tomato', 'pepperoni', 'garlic', 'lettuce', 'cheese', 'mayonnaise', 'pickle', 'avocado']\n"
          ]
        }
      ]
    },
    {
      "cell_type": "markdown",
      "source": [
        "Problem 22:\n",
        "Suppose you work for a company that sells products in different countries. You have been given two lists: one containing the names of the countries where the company sells its products, and the other containing the sales data for each country. Your task is to create a dictionary where the keys are the country names, and the values are the corresponding sales data. However, the sales data should only include values that are greater than 1000. You are not allowed to use any loops, and must use list comprehension to solve the problem.\n",
        "\n",
        "Can you write the code to create the desired dictionary using list comprehension?"
      ],
      "metadata": {
        "id": "E4bQnZ_JbCLe"
      }
    },
    {
      "cell_type": "code",
      "source": [
        "countries = [\"USA\", \"Canada\", \"Mexico\", \"Brazil\", \"UK\", \"France\", \"Germany\", \"China\", \"India\"]\n",
        "sales = [2500, 300, 1200, 800, 500, 2000, 4000, 1000, 1500]\n",
        "#creating a dictionary using list comprehension\n",
        "my_dict = {country:data for country,data in zip(countries,sales) if data>1000}\n",
        "print(my_dict)"
      ],
      "metadata": {
        "colab": {
          "base_uri": "https://localhost:8080/"
        },
        "id": "Up2TJKcmbMJW",
        "outputId": "d8f8ba0f-d1b5-4fa7-86fd-ff08b9c353f2"
      },
      "execution_count": null,
      "outputs": [
        {
          "output_type": "stream",
          "name": "stdout",
          "text": [
            "{'USA': 2500, 'Mexico': 1200, 'France': 2000, 'Germany': 4000, 'India': 1500}\n"
          ]
        }
      ]
    },
    {
      "cell_type": "markdown",
      "source": [
        "Problem 23:\n",
        "Suppose you are working for a company that deals with financial data. You have been given a list of dictionaries, where each dictionary contains the following information about a stock: name, ticker symbol, price, and percentage change in price. Your task is to create a new list of dictionaries, where each dictionary contains only the name and price of the stock, but only for those stocks where the price is greater than 100 and the percentage change is positive. You must use list comprehension to solve the problem.\n",
        "\n",
        "Can you write the code to create the desired list of dictionaries using list comprehension?"
      ],
      "metadata": {
        "id": "YxdU9oP1eAJz"
      }
    },
    {
      "cell_type": "code",
      "source": [
        "stocks = [\n",
        "    {'name': 'Apple Inc.', 'ticker': 'AAPL', 'price': 120.0, 'change': 0.05},\n",
        "    {'name': 'Microsoft Corporation', 'ticker': 'MSFT', 'price': 95.0, 'change': -0.02},\n",
        "    {'name': 'Amazon.com, Inc.', 'ticker': 'AMZN', 'price': 250.0, 'change': 0.1},\n",
        "    {'name': 'Alphabet Inc.', 'ticker': 'GOOGL', 'price': 110.0, 'change': 0.02},\n",
        "    {'name': 'Facebook, Inc.', 'ticker': 'FB', 'price': 80.0, 'change': 0.03}\n",
        "]\n",
        "#creating a list of dictionaries using list comprehension\n",
        "new_list = [{'name':item['name'],'price':item['price']} for item in stocks if item['price']>100 if item['change']>0]\n",
        "print(new_list)"
      ],
      "metadata": {
        "colab": {
          "base_uri": "https://localhost:8080/"
        },
        "id": "EcMwdg1LeLjW",
        "outputId": "9f502985-96cd-4825-f3af-5a382aa249b4"
      },
      "execution_count": null,
      "outputs": [
        {
          "output_type": "stream",
          "name": "stdout",
          "text": [
            "[{'name': 'Apple Inc.', 'price': 120.0}, {'name': 'Amazon.com, Inc.', 'price': 250.0}, {'name': 'Alphabet Inc.', 'price': 110.0}]\n"
          ]
        }
      ]
    },
    {
      "cell_type": "markdown",
      "source": [
        "Problem 24:\n",
        "You have a list of songs that you like to listen to, but you notice that some of the songs have duplicate names. You want to create a new set that contains the unique names of all the songs and keep the songs whose name doesn't start with \"S\" and doesn't end with \"n\" in your list using set comprehension.\n",
        "\n",
        "Can you write the code to create a new set that contains the unique names of all the songs in your list using set comprehension only?"
      ],
      "metadata": {
        "id": "EcHieo_EpPoc"
      }
    },
    {
      "cell_type": "code",
      "source": [
        "songs = ['Bohemian Rhapsody', 'Stairway to Heaven', 'Bohemian Rhapsody', 'Hotel California', 'November Rain', 'Stairway to Heaven', 'Sweet Child O\\' Mine']\n",
        "#using set comprehension to create a set containing only the songs that doesn\"t start with s and end with n.using if statement to check the condition\n",
        "my_set = {song for song in songs if song[0].upper() != \"S\" and song[-1].upper() != \"N\"}\n",
        "print(my_set)"
      ],
      "metadata": {
        "colab": {
          "base_uri": "https://localhost:8080/"
        },
        "id": "3ZUIGPXEpbLc",
        "outputId": "0c32e43b-bd26-45d1-c981-4bb5c069d214"
      },
      "execution_count": null,
      "outputs": [
        {
          "output_type": "stream",
          "name": "stdout",
          "text": [
            "{'Hotel California', 'Bohemian Rhapsody'}\n"
          ]
        }
      ]
    },
    {
      "cell_type": "markdown",
      "source": [
        "Problem 25:\n",
        " In this activity, we will create a custom function in Python to build a calculator that can perform basic arithmetic operations such as addition, subtraction, multiplication, and division."
      ],
      "metadata": {
        "id": "ZmNdfGIZseUQ"
      }
    },
    {
      "cell_type": "code",
      "source": [
        "#defining a function that does basic arithmetic operation like addition,subtraction,multiplication and division b/w two numbers\n",
        "def calculator(num1,num2,operation):\n",
        "  print(\"press + for addition,- for subtraction,* for multiplication,/ for division\")\n",
        "\n",
        "  if operation == \"+\":\n",
        "    return num1+num2\n",
        "  elif operation == \"-\":\n",
        "    return num1-num2\n",
        "  elif operation == \"*\":\n",
        "    return num1*num2\n",
        "  elif operation == \"/\":\n",
        "    return num1/num2\n",
        "\n",
        "  if operation not in [\"+\",\"-\",\"*\",\"/\"]:\n",
        "    print(\"Invalid operation\")"
      ],
      "metadata": {
        "id": "-Fj4cIt7sg4_"
      },
      "execution_count": null,
      "outputs": []
    },
    {
      "cell_type": "code",
      "source": [
        "#storing the function call in result variable and printing the result\n",
        "result = calculator(5,9,\"*\")\n",
        "print(result)"
      ],
      "metadata": {
        "colab": {
          "base_uri": "https://localhost:8080/"
        },
        "id": "FSLGgSuFuFzd",
        "outputId": "c6d05976-93d2-4bde-9b0e-85cd5c642747"
      },
      "execution_count": null,
      "outputs": [
        {
          "output_type": "stream",
          "name": "stdout",
          "text": [
            "press + for addition,- for subtraction,* for multiplication,4 for division\n",
            "45\n"
          ]
        }
      ]
    },
    {
      "cell_type": "markdown",
      "source": [
        "Problem 26:\n",
        "In this activity, you will build a program that generates a Fibonacci sequence using conditional looping in Python. The Fibonacci sequence is a series of numbers in which each number is the sum of the two preceding numbers. The sequence starts with 0 and 1, and the next number in the sequence is the sum of the previous two numbers."
      ],
      "metadata": {
        "id": "2SacHtgsvqv2"
      }
    },
    {
      "cell_type": "code",
      "source": [
        "#accepting the user input as to what length of fibonacci sequence does he want\n",
        "user_input = int(input(\"Enter the length of fib series : \"))\n",
        "#initialising fib list that will store the fibonacci series\n",
        "fib = []\n",
        "#as per the length adding the numbers using if else statement and conditional looping\n",
        "if user_input == 1:\n",
        "  fib = [0]\n",
        "if user_input == 2:\n",
        "  fib = [0,1]\n",
        "else:\n",
        "  fib = [0,1]\n",
        "  idx = 2\n",
        "  #using conditional looping to add sum of last two numbers to the list of fibnonacci series\n",
        "  while idx < user_input:\n",
        "    fib.append(fib[idx-1]+ fib[idx-2])\n",
        "    idx+=1\n",
        "print(fib)\n"
      ],
      "metadata": {
        "colab": {
          "base_uri": "https://localhost:8080/"
        },
        "id": "xqftvy0pv58H",
        "outputId": "dd1ea115-7d8e-4bc0-a556-3893a1053d2e"
      },
      "execution_count": null,
      "outputs": [
        {
          "output_type": "stream",
          "name": "stdout",
          "text": [
            "Enter the length of fib series : 5\n",
            "[0, 1, 1, 2, 3]\n"
          ]
        }
      ]
    },
    {
      "cell_type": "markdown",
      "source": [
        "Problem 27:\n",
        "You have been given a task to write a Python program that counts the number of times a specific digit appears in a range of numbers. You need to use a for loop to iterate over the range of numbers, and a while loop to check each digit in the number."
      ],
      "metadata": {
        "id": "9pXVez6CxqQ2"
      }
    },
    {
      "cell_type": "code",
      "source": [
        "#accepting the starting number,ending number and the digit to count from the user\n",
        "start = int(input(\"enter the starting number:\"))\n",
        "end = int(input(\"enter the ending number:\"))\n",
        "digit = int(input(\"enter the digit:\"))\n",
        "#initialising the count variable that will store the digit count\n",
        "count = 0\n",
        "#using for loop to iterate over the range of numbers\n",
        "for i in range(start,end+1):\n",
        "  #typecasting to string to check if it exists in numbers\n",
        "  if str(digit) in str(i):\n",
        "    count+=1\n",
        "\n",
        "print(count)"
      ],
      "metadata": {
        "colab": {
          "base_uri": "https://localhost:8080/"
        },
        "id": "jfSVpwwix0ll",
        "outputId": "86289b8c-1a3a-4d4e-bbb7-0749d976bf9a"
      },
      "execution_count": null,
      "outputs": [
        {
          "output_type": "stream",
          "name": "stdout",
          "text": [
            "enter the starting number:100\n",
            "enter the ending number:150\n",
            "enter the digit:5\n",
            "6\n"
          ]
        }
      ]
    },
    {
      "cell_type": "markdown",
      "source": [
        "Problem 28:\n",
        "Sum odd Numbers ➖\n",
        "In this activity, you will create a custom function in Python that takes a list of integers as an argument and returns the sum of all odd numbers in the list."
      ],
      "metadata": {
        "id": "MRLgRdXszYy7"
      }
    },
    {
      "cell_type": "code",
      "source": [
        "#defining a function by odd-sum that counts the sum of odd numbers in the list\n",
        "def odd_sum(list_of_integers):\n",
        "  total = 0\n",
        "  for num in list_of_integers:\n",
        "    if num%2 != 0:\n",
        "      total += num\n",
        "  return total"
      ],
      "metadata": {
        "id": "haUuQ-o1zhl3"
      },
      "execution_count": null,
      "outputs": []
    },
    {
      "cell_type": "code",
      "source": [
        "#passing the list of integers as argument and calling the function whose output gets stored in result variable and finally printing the result\n",
        "my_list = [1, 2, 3, 4, 5, 6]\n",
        "result = odd_sum(my_list)\n",
        "print(result)"
      ],
      "metadata": {
        "colab": {
          "base_uri": "https://localhost:8080/"
        },
        "id": "Fa6vBtnQ1HWC",
        "outputId": "2f80b429-afb8-425d-dbe1-b658560a57c5"
      },
      "execution_count": null,
      "outputs": [
        {
          "output_type": "stream",
          "name": "stdout",
          "text": [
            "9\n"
          ]
        }
      ]
    },
    {
      "cell_type": "markdown",
      "source": [
        "Problem 29:\n",
        "You and your friends are playing a board game where you roll a dice and move your game piece accordingly. However, you want to know the average number rolled by each player to see who's really the luckiest. Write a program that takes a list of rolls as input for each player and uses a for loop to calculate the average roll for each player. The winner gets bragging rights for being the luckiest!"
      ],
      "metadata": {
        "id": "7cUAeRk21tmK"
      }
    },
    {
      "cell_type": "code",
      "source": [
        "player_rolls = [\n",
        "    [3, 5, 6, 2, 1],  # player 1's rolls\n",
        "    [4, 4, 6, 3, 2],  # player 2's rolls\n",
        "    [1, 5, 6, 6, 4]   # player 3's rolls\n",
        "]\n",
        "max_avg = 0\n",
        "max_avg_person = 0\n",
        "\n",
        "for i in range(0, len(player_rolls)):\n",
        "  sublist = player_rolls[i]\n",
        "  avg = sum(sublist)/len(sublist)\n",
        "  # max_avg is what is the maximum average we have seen so far\n",
        "  # if the new avg which is stored in avg is more than max avg then we should update\n",
        "  if avg > max_avg:\n",
        "    max_avg = avg\n",
        "    max_avg_person = i\n",
        "print(max_avg)\n",
        "print(max_avg_person)"
      ],
      "metadata": {
        "colab": {
          "base_uri": "https://localhost:8080/"
        },
        "id": "WHUyLxyS4BZL",
        "outputId": "0b0d0235-7023-4cb7-816e-57e4ce7a008e"
      },
      "execution_count": null,
      "outputs": [
        {
          "output_type": "stream",
          "name": "stdout",
          "text": [
            "4.4\n",
            "2\n"
          ]
        }
      ]
    },
    {
      "cell_type": "markdown",
      "source": [
        "Problem 30:\n",
        "Measuring the Accuracy of a Disease Detection Model- Optional\n",
        "If you're not impressed with these usecases yet, understand that you're just getting started with python. Going forward as a data scientist, you'll be using what you've learned to design machine learning models that just might even save lives!!\n",
        "\n",
        "Let's say you have created a machine learning model to detect diseases in patients based on their symptoms and medical history. The model has been tested on a dataset of 100 patients, including 30 with diabetes, 45 with heart disease, and 25 with cancer. The model's performance was evaluated in three rounds. In the first round, the model correctly detected diabetes in 25 out of the 30 patients with the disease. In the second round, the model correctly detected heart disease in 35 out of the 45 patients with the disease. In the final round, the model correctly detected cancer in 20 out of the 25 patients with the disease.\n",
        "\n",
        "The model's accuracy is defined as the percentage of correctly detected cases out of the total number of patient\n",
        "\n",
        "Assess how accurate your model is across these 3 diseases."
      ],
      "metadata": {
        "id": "-G4-I0O25kGj"
      }
    },
    {
      "cell_type": "code",
      "source": [
        "#initialising the variables which store the total number of patients for each disease\n",
        "heart_disease = 45\n",
        "cancer = 25\n",
        "diabetes = 30\n",
        "#initialising variables that store the correctly detected cases for each disease\n",
        "c_dia = 25\n",
        "c_heart = 35\n",
        "c_cancer = 20\n",
        "#calculating the accuracy for each disease\n",
        "dia_acc = (c_dia/diabetes)*100\n",
        "heart_acc = (c_heart/heart_disease)*100\n",
        "cancer_acc = (c_cancer/cancer)*100\n",
        "\n",
        "print(dia_acc , heart_acc , cancer_acc)"
      ],
      "metadata": {
        "colab": {
          "base_uri": "https://localhost:8080/"
        },
        "id": "HDqm1cEl5_97",
        "outputId": "cd2102f4-957a-4f28-aa5a-5fa8797ed2ad"
      },
      "execution_count": null,
      "outputs": [
        {
          "output_type": "stream",
          "name": "stdout",
          "text": [
            "83.33333333333334 77.77777777777779 80.0\n"
          ]
        }
      ]
    },
    {
      "cell_type": "code",
      "source": [
        "#calculating the overall accuracy\n",
        "overall = (c_dia + c_heart + c_cancer)/(heart_disease + diabetes + cancer) *100\n",
        "print(overall)"
      ],
      "metadata": {
        "colab": {
          "base_uri": "https://localhost:8080/"
        },
        "id": "jYbmoiCJ6QxA",
        "outputId": "f9a15ab2-8ab6-40f0-cff0-958532c9ef36"
      },
      "execution_count": null,
      "outputs": [
        {
          "output_type": "stream",
          "name": "stdout",
          "text": [
            "80.0\n"
          ]
        }
      ]
    },
    {
      "cell_type": "code",
      "source": [],
      "metadata": {
        "id": "ERTPazhYvcao"
      },
      "execution_count": null,
      "outputs": []
    }
  ]
}